{
 "cells": [
  {
   "cell_type": "markdown",
   "id": "00726657",
   "metadata": {},
   "source": [
    "# python 1st class ( date 15-10-2022)"
   ]
  },
  {
   "cell_type": "markdown",
   "id": "60f31e45",
   "metadata": {},
   "source": [
    "# keywords = basically keywords are those words that can be understand by python . they have some meaning in python"
   ]
  },
  {
   "cell_type": "code",
   "execution_count": 1,
   "id": "a5dfbd1b",
   "metadata": {},
   "outputs": [
    {
     "name": "stdout",
     "output_type": "stream",
     "text": [
      "['False', 'None', 'True', '__peg_parser__', 'and', 'as', 'assert', 'async', 'await', 'break', 'class', 'continue', 'def', 'del', 'elif', 'else', 'except', 'finally', 'for', 'from', 'global', 'if', 'import', 'in', 'is', 'lambda', 'nonlocal', 'not', 'or', 'pass', 'raise', 'return', 'try', 'while', 'with', 'yield']\n"
     ]
    }
   ],
   "source": [
    "#how to import keywords\n",
    "#find keywords code\n",
    "import keyword  #first we have to import keywords bty import\n",
    "print(keyword.kwlist)"
   ]
  },
  {
   "cell_type": "markdown",
   "id": "ad6c81d0",
   "metadata": {},
   "source": []
  },
  {
   "cell_type": "markdown",
   "id": "34284936",
   "metadata": {},
   "source": [
    "# boolean expression = "
   ]
  },
  {
   "cell_type": "code",
   "execution_count": 2,
   "id": "b3b46918",
   "metadata": {},
   "outputs": [],
   "source": [
    "#boolean expression are created with keywords (and , or , not , is) . there are two boolean expression 1.true 2. false"
   ]
  },
  {
   "cell_type": "code",
   "execution_count": 3,
   "id": "be1c06d4",
   "metadata": {},
   "outputs": [
    {
     "data": {
      "text/plain": [
       "True"
      ]
     },
     "execution_count": 3,
     "metadata": {},
     "output_type": "execute_result"
    }
   ],
   "source": [
    "True and True\n",
    "#python will choose True b/w two trues"
   ]
  },
  {
   "cell_type": "code",
   "execution_count": 4,
   "id": "b7752407",
   "metadata": {},
   "outputs": [
    {
     "data": {
      "text/plain": [
       "False"
      ]
     },
     "execution_count": 4,
     "metadata": {},
     "output_type": "execute_result"
    }
   ],
   "source": [
    "True and False     #in b/w True and False python will go for false"
   ]
  },
  {
   "cell_type": "code",
   "execution_count": 5,
   "id": "4e6451ef",
   "metadata": {},
   "outputs": [
    {
     "data": {
      "text/plain": [
       "False"
      ]
     },
     "execution_count": 5,
     "metadata": {},
     "output_type": "execute_result"
    }
   ],
   "source": [
    "not True    #it will become false"
   ]
  },
  {
   "cell_type": "code",
   "execution_count": 6,
   "id": "e42372c6",
   "metadata": {},
   "outputs": [
    {
     "data": {
      "text/plain": [
       "True"
      ]
     },
     "execution_count": 6,
     "metadata": {},
     "output_type": "execute_result"
    }
   ],
   "source": [
    "True is True    #this statement is true"
   ]
  },
  {
   "cell_type": "code",
   "execution_count": 7,
   "id": "3462fdc3",
   "metadata": {},
   "outputs": [
    {
     "data": {
      "text/plain": [
       "False"
      ]
     },
     "execution_count": 7,
     "metadata": {},
     "output_type": "execute_result"
    }
   ],
   "source": [
    "True is False   #this statement is false as we know true is not equal to false and its vice verca will be false too"
   ]
  },
  {
   "cell_type": "code",
   "execution_count": 8,
   "id": "026e2183",
   "metadata": {},
   "outputs": [
    {
     "data": {
      "text/plain": [
       "True"
      ]
     },
     "execution_count": 8,
     "metadata": {},
     "output_type": "execute_result"
    }
   ],
   "source": [
    "False is False"
   ]
  },
  {
   "cell_type": "code",
   "execution_count": 9,
   "id": "13e097d1",
   "metadata": {},
   "outputs": [
    {
     "data": {
      "text/plain": [
       "True"
      ]
     },
     "execution_count": 9,
     "metadata": {},
     "output_type": "execute_result"
    }
   ],
   "source": [
    "True or False    # in b/w when there is option of choosing between True and false python will choose true"
   ]
  },
  {
   "cell_type": "code",
   "execution_count": 10,
   "id": "94360880",
   "metadata": {},
   "outputs": [
    {
     "name": "stderr",
     "output_type": "stream",
     "text": [
      "<>:1: SyntaxWarning: \"is\" with a literal. Did you mean \"==\"?\n",
      "<>:1: SyntaxWarning: \"is\" with a literal. Did you mean \"==\"?\n",
      "C:\\Users\\Asus\\AppData\\Local\\Temp\\ipykernel_6032\\2393443867.py:1: SyntaxWarning: \"is\" with a literal. Did you mean \"==\"?\n",
      "  'b' is 'c'   # b is not equal to c so it will become false automatically\n"
     ]
    },
    {
     "data": {
      "text/plain": [
       "False"
      ]
     },
     "execution_count": 10,
     "metadata": {},
     "output_type": "execute_result"
    }
   ],
   "source": [
    "'b' is 'c'   # b is not equal to c so it will become false automatically"
   ]
  },
  {
   "cell_type": "code",
   "execution_count": 11,
   "id": "4de7eeb3",
   "metadata": {},
   "outputs": [
    {
     "data": {
      "text/plain": [
       "False"
      ]
     },
     "execution_count": 11,
     "metadata": {},
     "output_type": "execute_result"
    }
   ],
   "source": [
    " 'b' == 'c'"
   ]
  },
  {
   "cell_type": "code",
   "execution_count": 12,
   "id": "8bef3aa6",
   "metadata": {},
   "outputs": [
    {
     "data": {
      "text/plain": [
       "True"
      ]
     },
     "execution_count": 12,
     "metadata": {},
     "output_type": "execute_result"
    }
   ],
   "source": [
    "#same thing will go with integerb \n",
    "10 ==10"
   ]
  },
  {
   "cell_type": "code",
   "execution_count": 13,
   "id": "cfa7d66f",
   "metadata": {},
   "outputs": [
    {
     "data": {
      "text/plain": [
       "False"
      ]
     },
     "execution_count": 13,
     "metadata": {},
     "output_type": "execute_result"
    }
   ],
   "source": [
    "10 ==15"
   ]
  },
  {
   "cell_type": "code",
   "execution_count": 14,
   "id": "92aee511",
   "metadata": {},
   "outputs": [
    {
     "data": {
      "text/plain": [
       "True"
      ]
     },
     "execution_count": 14,
     "metadata": {},
     "output_type": "execute_result"
    }
   ],
   "source": [
    "True and False or True    #here python will first look for st.(true and false ) which will bring result false and then python will choose b/w false or true and will choose true"
   ]
  },
  {
   "cell_type": "code",
   "execution_count": 15,
   "id": "097cc2a2",
   "metadata": {},
   "outputs": [
    {
     "data": {
      "text/plain": [
       "1"
      ]
     },
     "execution_count": 15,
     "metadata": {},
     "output_type": "execute_result"
    }
   ],
   "source": [
    "# when there will mathematical expression b/w true and false \n",
    "# true = 1 and false = 0\n",
    "True - False"
   ]
  },
  {
   "cell_type": "code",
   "execution_count": 16,
   "id": "a590db89",
   "metadata": {},
   "outputs": [
    {
     "data": {
      "text/plain": [
       "2"
      ]
     },
     "execution_count": 16,
     "metadata": {},
     "output_type": "execute_result"
    }
   ],
   "source": [
    "True +True"
   ]
  },
  {
   "cell_type": "code",
   "execution_count": 17,
   "id": "4f259999",
   "metadata": {},
   "outputs": [
    {
     "data": {
      "text/plain": [
       "-1"
      ]
     },
     "execution_count": 17,
     "metadata": {},
     "output_type": "execute_result"
    }
   ],
   "source": [
    "False - True"
   ]
  },
  {
   "cell_type": "code",
   "execution_count": 18,
   "id": "f4b9bddb",
   "metadata": {},
   "outputs": [
    {
     "data": {
      "text/plain": [
       "0"
      ]
     },
     "execution_count": 18,
     "metadata": {},
     "output_type": "execute_result"
    }
   ],
   "source": [
    " False+ False"
   ]
  },
  {
   "cell_type": "code",
   "execution_count": 19,
   "id": "68588c3d",
   "metadata": {},
   "outputs": [
    {
     "data": {
      "text/plain": [
       "0"
      ]
     },
     "execution_count": 19,
     "metadata": {},
     "output_type": "execute_result"
    }
   ],
   "source": [
    "False * True"
   ]
  },
  {
   "cell_type": "code",
   "execution_count": 21,
   "id": "71f01dcf",
   "metadata": {},
   "outputs": [
    {
     "data": {
      "text/plain": [
       "0.0"
      ]
     },
     "execution_count": 21,
     "metadata": {},
     "output_type": "execute_result"
    }
   ],
   "source": [
    "False/True"
   ]
  },
  {
   "cell_type": "code",
   "execution_count": 22,
   "id": "cc67d140",
   "metadata": {},
   "outputs": [
    {
     "ename": "ZeroDivisionError",
     "evalue": "division by zero",
     "output_type": "error",
     "traceback": [
      "\u001b[1;31m---------------------------------------------------------------------------\u001b[0m",
      "\u001b[1;31mZeroDivisionError\u001b[0m                         Traceback (most recent call last)",
      "\u001b[1;32m~\\AppData\\Local\\Temp\\ipykernel_6032\\2117931388.py\u001b[0m in \u001b[0;36m<module>\u001b[1;34m\u001b[0m\n\u001b[1;32m----> 1\u001b[1;33m \u001b[1;32mTrue\u001b[0m \u001b[1;33m/\u001b[0m\u001b[1;32mFalse\u001b[0m\u001b[1;33m\u001b[0m\u001b[1;33m\u001b[0m\u001b[0m\n\u001b[0m",
      "\u001b[1;31mZeroDivisionError\u001b[0m: division by zero"
     ]
    }
   ],
   "source": [
    "True /False    # can not be divided by zero"
   ]
  },
  {
   "cell_type": "code",
   "execution_count": 23,
   "id": "2f5cb0a3",
   "metadata": {
    "scrolled": true
   },
   "outputs": [
    {
     "ename": "NameError",
     "evalue": "name 'd' is not defined",
     "output_type": "error",
     "traceback": [
      "\u001b[1;31m---------------------------------------------------------------------------\u001b[0m",
      "\u001b[1;31mNameError\u001b[0m                                 Traceback (most recent call last)",
      "\u001b[1;32m~\\AppData\\Local\\Temp\\ipykernel_6032\\3816175063.py\u001b[0m in \u001b[0;36m<module>\u001b[1;34m\u001b[0m\n\u001b[1;32m----> 1\u001b[1;33m \u001b[0md\u001b[0m\u001b[1;33m+\u001b[0m\u001b[0md\u001b[0m\u001b[1;33m\u001b[0m\u001b[1;33m\u001b[0m\u001b[0m\n\u001b[0m",
      "\u001b[1;31mNameError\u001b[0m: name 'd' is not defined"
     ]
    }
   ],
   "source": []
  },
  {
   "cell_type": "markdown",
   "id": "bda01c75",
   "metadata": {},
   "source": [
    "# data types and structures = 1.numbers 2.string 3.list 4.tuple 5.set 6.dictionory"
   ]
  },
  {
   "cell_type": "raw",
   "id": "2fe61743",
   "metadata": {},
   "source": [
    " numbers = integer , float , complex\n"
   ]
  },
  {
   "cell_type": "markdown",
   "id": "53b84468",
   "metadata": {},
   "source": [
    "# variable and data variable is a name which holds some data structure, some kind of storage where it holds some data"
   ]
  },
  {
   "cell_type": "markdown",
   "id": "9c7b60af",
   "metadata": {},
   "source": [
    "# variable = data\n",
    "that '=' sign used for data assigning here , "
   ]
  },
  {
   "cell_type": "code",
   "execution_count": 24,
   "id": "b4c7e0c7",
   "metadata": {},
   "outputs": [],
   "source": [
    "#float data = decimal form\n",
    "# integer = normal numbers \n",
    "# complex = 6 +2j form   #this is not included in our syllabus"
   ]
  },
  {
   "cell_type": "code",
   "execution_count": 25,
   "id": "b7acd8f8",
   "metadata": {},
   "outputs": [],
   "source": [
    "a = 10  "
   ]
  },
  {
   "cell_type": "code",
   "execution_count": 26,
   "id": "0d2fd942",
   "metadata": {},
   "outputs": [
    {
     "data": {
      "text/plain": [
       "int"
      ]
     },
     "execution_count": 26,
     "metadata": {},
     "output_type": "execute_result"
    }
   ],
   "source": [
    "type (a)"
   ]
  },
  {
   "cell_type": "code",
   "execution_count": 27,
   "id": "81fb3a66",
   "metadata": {},
   "outputs": [],
   "source": [
    "b = 10.15"
   ]
  },
  {
   "cell_type": "code",
   "execution_count": 28,
   "id": "6a53c324",
   "metadata": {},
   "outputs": [
    {
     "data": {
      "text/plain": [
       "float"
      ]
     },
     "execution_count": 28,
     "metadata": {},
     "output_type": "execute_result"
    }
   ],
   "source": [
    "type(b)"
   ]
  },
  {
   "cell_type": "code",
   "execution_count": 29,
   "id": "885dbfb3",
   "metadata": {},
   "outputs": [],
   "source": [
    "c =  6 +3j"
   ]
  },
  {
   "cell_type": "code",
   "execution_count": 30,
   "id": "3d417914",
   "metadata": {},
   "outputs": [
    {
     "data": {
      "text/plain": [
       "complex"
      ]
     },
     "execution_count": 30,
     "metadata": {},
     "output_type": "execute_result"
    }
   ],
   "source": [
    "type(c)"
   ]
  },
  {
   "cell_type": "code",
   "execution_count": 31,
   "id": "097d9ba2",
   "metadata": {},
   "outputs": [],
   "source": [
    " v = a * b "
   ]
  },
  {
   "cell_type": "code",
   "execution_count": 32,
   "id": "b3e268f9",
   "metadata": {},
   "outputs": [
    {
     "data": {
      "text/plain": [
       "101.5"
      ]
     },
     "execution_count": 32,
     "metadata": {},
     "output_type": "execute_result"
    }
   ],
   "source": [
    "v"
   ]
  },
  {
   "cell_type": "code",
   "execution_count": 33,
   "id": "19dd3eea",
   "metadata": {},
   "outputs": [
    {
     "data": {
      "text/plain": [
       "float"
      ]
     },
     "execution_count": 33,
     "metadata": {},
     "output_type": "execute_result"
    }
   ],
   "source": [
    "type (v)"
   ]
  },
  {
   "cell_type": "code",
   "execution_count": 34,
   "id": "d2a5f729",
   "metadata": {},
   "outputs": [],
   "source": [
    "j =  a +b"
   ]
  },
  {
   "cell_type": "code",
   "execution_count": 35,
   "id": "d08ab917",
   "metadata": {},
   "outputs": [
    {
     "data": {
      "text/plain": [
       "20.15"
      ]
     },
     "execution_count": 35,
     "metadata": {},
     "output_type": "execute_result"
    }
   ],
   "source": [
    "j"
   ]
  },
  {
   "cell_type": "code",
   "execution_count": 36,
   "id": "aaeb8469",
   "metadata": {},
   "outputs": [
    {
     "data": {
      "text/plain": [
       "float"
      ]
     },
     "execution_count": 36,
     "metadata": {},
     "output_type": "execute_result"
    }
   ],
   "source": [
    "type(j)"
   ]
  },
  {
   "cell_type": "markdown",
   "id": "f08991fd",
   "metadata": {},
   "source": [
    "# string:\n",
    "              text is known as string but string shoul be in inverted commas form ''  , \" \" \n",
    "              a number when in inverted commas it will also become string\n",
    "              \"string\"\n",
    "              'string'\n",
    "                      "
   ]
  },
  {
   "cell_type": "code",
   "execution_count": 37,
   "id": "32d8204e",
   "metadata": {},
   "outputs": [
    {
     "ename": "TypeError",
     "evalue": "can only concatenate str (not \"int\") to str",
     "output_type": "error",
     "traceback": [
      "\u001b[1;31m---------------------------------------------------------------------------\u001b[0m",
      "\u001b[1;31mTypeError\u001b[0m                                 Traceback (most recent call last)",
      "\u001b[1;32m~\\AppData\\Local\\Temp\\ipykernel_6032\\2748092668.py\u001b[0m in \u001b[0;36m<module>\u001b[1;34m\u001b[0m\n\u001b[1;32m----> 1\u001b[1;33m \u001b[0mprint\u001b[0m \u001b[1;33m(\u001b[0m\u001b[1;34m'day '\u001b[0m \u001b[1;33m+\u001b[0m \u001b[1;36m2\u001b[0m \u001b[1;33m)\u001b[0m    \u001b[1;31m# this will become false as we can not add a string and an integer\u001b[0m\u001b[1;33m\u001b[0m\u001b[1;33m\u001b[0m\u001b[0m\n\u001b[0m",
      "\u001b[1;31mTypeError\u001b[0m: can only concatenate str (not \"int\") to str"
     ]
    }
   ],
   "source": [
    "print ('day ' + 2 )    # this will become false as we can not add a string and an integer \n"
   ]
  },
  {
   "cell_type": "code",
   "execution_count": 38,
   "id": "ad4020d4",
   "metadata": {},
   "outputs": [
    {
     "ename": "ValueError",
     "evalue": "invalid literal for int() with base 10: 'day'",
     "output_type": "error",
     "traceback": [
      "\u001b[1;31m---------------------------------------------------------------------------\u001b[0m",
      "\u001b[1;31mValueError\u001b[0m                                Traceback (most recent call last)",
      "\u001b[1;32m~\\AppData\\Local\\Temp\\ipykernel_6032\\2421701312.py\u001b[0m in \u001b[0;36m<module>\u001b[1;34m\u001b[0m\n\u001b[1;32m----> 1\u001b[1;33m \u001b[0mprint\u001b[0m \u001b[1;33m(\u001b[0m\u001b[0mint\u001b[0m\u001b[1;33m(\u001b[0m\u001b[1;34m'day'\u001b[0m\u001b[1;33m)\u001b[0m \u001b[1;33m+\u001b[0m \u001b[1;36m2\u001b[0m \u001b[1;33m)\u001b[0m    \u001b[1;31m#it will be error as we can not make a string an integer\u001b[0m\u001b[1;33m\u001b[0m\u001b[1;33m\u001b[0m\u001b[0m\n\u001b[0m",
      "\u001b[1;31mValueError\u001b[0m: invalid literal for int() with base 10: 'day'"
     ]
    }
   ],
   "source": [
    "print (int('day') + 2 )    #it will be error as we can not make a string an integer"
   ]
  },
  {
   "cell_type": "code",
   "execution_count": 39,
   "id": "97e8fe0c",
   "metadata": {},
   "outputs": [
    {
     "name": "stdout",
     "output_type": "stream",
     "text": [
      "day 2\n"
     ]
    }
   ],
   "source": [
    "print ( 'day ' + str(2))      # it will become true as we know we can make a number string"
   ]
  },
  {
   "cell_type": "code",
   "execution_count": 40,
   "id": "dd4dd081",
   "metadata": {},
   "outputs": [
    {
     "name": "stdout",
     "output_type": "stream",
     "text": [
      "day 2\n"
     ]
    }
   ],
   "source": [
    "print( 'day ' + '2')    # it is a simple way to covert int into string"
   ]
  },
  {
   "cell_type": "markdown",
   "id": "b7514d79",
   "metadata": {},
   "source": [
    "# syntex error: syntax error means we are not following the standards."
   ]
  },
  {
   "cell_type": "code",
   "execution_count": null,
   "id": "f8c64f0c",
   "metadata": {},
   "outputs": [],
   "source": []
  },
  {
   "cell_type": "markdown",
   "id": "40f8c2ab",
   "metadata": {},
   "source": [
    "# data structures:\n",
    "1.list \n",
    "2.tuple\n",
    "3.set\n",
    "4.dictionary\n",
    "# data structures store the value in different structures , manners(different way of holding data)"
   ]
  },
  {
   "cell_type": "code",
   "execution_count": 41,
   "id": "465d21c1",
   "metadata": {},
   "outputs": [],
   "source": [
    "#copying any list = \n",
    "# variable = listname.copy()"
   ]
  },
  {
   "cell_type": "code",
   "execution_count": 42,
   "id": "08fad220",
   "metadata": {},
   "outputs": [
    {
     "data": {
      "text/plain": [
       "['s', 'h', 'a', 'n', 'k', 'a', 'r']"
      ]
     },
     "execution_count": 42,
     "metadata": {},
     "output_type": "execute_result"
    }
   ],
   "source": [
    "list('shankar')"
   ]
  },
  {
   "cell_type": "code",
   "execution_count": 43,
   "id": "ab4a1bf8",
   "metadata": {},
   "outputs": [
    {
     "ename": "TypeError",
     "evalue": "'int' object is not iterable",
     "output_type": "error",
     "traceback": [
      "\u001b[1;31m---------------------------------------------------------------------------\u001b[0m",
      "\u001b[1;31mTypeError\u001b[0m                                 Traceback (most recent call last)",
      "\u001b[1;32m~\\AppData\\Local\\Temp\\ipykernel_6032\\778665569.py\u001b[0m in \u001b[0;36m<module>\u001b[1;34m\u001b[0m\n\u001b[1;32m----> 1\u001b[1;33m \u001b[0mlist\u001b[0m\u001b[1;33m(\u001b[0m\u001b[1;36m123456\u001b[0m\u001b[1;33m)\u001b[0m    \u001b[1;31m#it will show error as we can only list a string\u001b[0m\u001b[1;33m\u001b[0m\u001b[1;33m\u001b[0m\u001b[0m\n\u001b[0m",
      "\u001b[1;31mTypeError\u001b[0m: 'int' object is not iterable"
     ]
    }
   ],
   "source": [
    "list(123456)    #it will show error as we can only list a string"
   ]
  },
  {
   "cell_type": "code",
   "execution_count": 44,
   "id": "d4636210",
   "metadata": {},
   "outputs": [
    {
     "data": {
      "text/plain": [
       "['1', '2', '3', '4', '5', '6']"
      ]
     },
     "execution_count": 44,
     "metadata": {},
     "output_type": "execute_result"
    }
   ],
   "source": [
    "list('123456')   #now this is a string"
   ]
  },
  {
   "cell_type": "code",
   "execution_count": 45,
   "id": "5a3c73b4",
   "metadata": {},
   "outputs": [],
   "source": [
    "l = ['a' , 'b' , 'c', 'd']"
   ]
  },
  {
   "cell_type": "code",
   "execution_count": 46,
   "id": "e8bffb44",
   "metadata": {},
   "outputs": [
    {
     "data": {
      "text/plain": [
       "['a', 'b', 'c', 'd']"
      ]
     },
     "execution_count": 46,
     "metadata": {},
     "output_type": "execute_result"
    }
   ],
   "source": [
    "l"
   ]
  },
  {
   "cell_type": "code",
   "execution_count": 47,
   "id": "1ff3745b",
   "metadata": {},
   "outputs": [],
   "source": [
    "a = ['a',696]"
   ]
  },
  {
   "cell_type": "code",
   "execution_count": 48,
   "id": "99e89bd3",
   "metadata": {},
   "outputs": [
    {
     "data": {
      "text/plain": [
       "['a', 696]"
      ]
     },
     "execution_count": 48,
     "metadata": {},
     "output_type": "execute_result"
    }
   ],
   "source": [
    "a"
   ]
  },
  {
   "cell_type": "code",
   "execution_count": 49,
   "id": "9245751d",
   "metadata": {},
   "outputs": [
    {
     "ename": "SyntaxError",
     "evalue": "invalid syntax (3108965371.py, line 1)",
     "output_type": "error",
     "traceback": [
      "\u001b[1;36m  File \u001b[1;32m\"C:\\Users\\Asus\\AppData\\Local\\Temp\\ipykernel_6032\\3108965371.py\"\u001b[1;36m, line \u001b[1;32m1\u001b[0m\n\u001b[1;33m    a = ['a'696]   #error , comma is imp\u001b[0m\n\u001b[1;37m            ^\u001b[0m\n\u001b[1;31mSyntaxError\u001b[0m\u001b[1;31m:\u001b[0m invalid syntax\n"
     ]
    }
   ],
   "source": [
    "a = ['a'696]   #error , comma is imp"
   ]
  },
  {
   "cell_type": "code",
   "execution_count": 50,
   "id": "c211997d",
   "metadata": {},
   "outputs": [],
   "source": [
    "#copy list to other list "
   ]
  },
  {
   "cell_type": "code",
   "execution_count": 51,
   "id": "18276540",
   "metadata": {},
   "outputs": [],
   "source": [
    "l = [ 1,2,3,4,5,6,7,]"
   ]
  },
  {
   "cell_type": "code",
   "execution_count": 52,
   "id": "898d36be",
   "metadata": {},
   "outputs": [],
   "source": [
    "l2 = l.copy()"
   ]
  },
  {
   "cell_type": "code",
   "execution_count": 53,
   "id": "eed22def",
   "metadata": {},
   "outputs": [
    {
     "data": {
      "text/plain": [
       "[1, 2, 3, 4, 5, 6, 7]"
      ]
     },
     "execution_count": 53,
     "metadata": {},
     "output_type": "execute_result"
    }
   ],
   "source": [
    "l2"
   ]
  },
  {
   "cell_type": "code",
   "execution_count": 54,
   "id": "bbdd59dd",
   "metadata": {},
   "outputs": [
    {
     "data": {
      "text/plain": [
       "[1, 2, 3, 4, 5, 6, 7]"
      ]
     },
     "execution_count": 54,
     "metadata": {},
     "output_type": "execute_result"
    }
   ],
   "source": [
    "l"
   ]
  },
  {
   "cell_type": "code",
   "execution_count": 55,
   "id": "64707452",
   "metadata": {},
   "outputs": [],
   "source": [
    "#another way of copying\n",
    "#variable = list(previous_list)"
   ]
  },
  {
   "cell_type": "code",
   "execution_count": 56,
   "id": "e1d1bb79",
   "metadata": {},
   "outputs": [],
   "source": [
    "l3= list(l2)"
   ]
  },
  {
   "cell_type": "code",
   "execution_count": 57,
   "id": "2e9f833b",
   "metadata": {},
   "outputs": [
    {
     "data": {
      "text/plain": [
       "[1, 2, 3, 4, 5, 6, 7]"
      ]
     },
     "execution_count": 57,
     "metadata": {},
     "output_type": "execute_result"
    }
   ],
   "source": [
    "l3"
   ]
  },
  {
   "cell_type": "code",
   "execution_count": null,
   "id": "57472968",
   "metadata": {},
   "outputs": [],
   "source": []
  }
 ],
 "metadata": {
  "kernelspec": {
   "display_name": "Python 3 (ipykernel)",
   "language": "python",
   "name": "python3"
  },
  "language_info": {
   "codemirror_mode": {
    "name": "ipython",
    "version": 3
   },
   "file_extension": ".py",
   "mimetype": "text/x-python",
   "name": "python",
   "nbconvert_exporter": "python",
   "pygments_lexer": "ipython3",
   "version": "3.9.13"
  }
 },
 "nbformat": 4,
 "nbformat_minor": 5
}
